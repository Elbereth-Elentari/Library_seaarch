{
  "nbformat": 4,
  "nbformat_minor": 0,
  "metadata": {
    "colab": {
      "name": "Library_search.ipynb",
      "provenance": [],
      "collapsed_sections": [],
      "mount_file_id": "15wPUJu7IAAFZAEqqGxWvWaD5bsQ9sHRI",
      "authorship_tag": "ABX9TyMcCxUrbBAqPvHl5esawuHZ",
      "include_colab_link": true
    },
    "kernelspec": {
      "name": "python3",
      "display_name": "Python 3"
    }
  },
  "cells": [
    {
      "cell_type": "markdown",
      "metadata": {
        "id": "view-in-github",
        "colab_type": "text"
      },
      "source": [
        "<a href=\"https://colab.research.google.com/github/Elbereth-Elentari/Library_search_for_topic/blob/master/Library_search.ipynb\" target=\"_parent\"><img src=\"https://colab.research.google.com/assets/colab-badge.svg\" alt=\"Open In Colab\"/></a>"
      ]
    },
    {
      "cell_type": "code",
      "metadata": {
        "id": "BnTNe_Tfqunb",
        "colab_type": "code",
        "colab": {}
      },
      "source": [
        "!pip3 install spacy==2.3.0\n",
        "!pip3 install spacy_langdetect\n",
        "!pip3 install selenium\n",
        "!apt-get install chromium-chromedriver\n",
        "!pip3 install tqdm\n",
        "!git clone https://github.com/Elbereth-Elentari/Library_search_for_topic.git"
      ],
      "execution_count": null,
      "outputs": []
    },
    {
      "cell_type": "code",
      "metadata": {
        "id": "0EFqpAt4OsN4",
        "colab_type": "code",
        "colab": {
          "base_uri": "https://localhost:8080/",
          "height": 85
        },
        "outputId": "d8305af8-d8e1-4a9f-cf15-daa289a81930"
      },
      "source": [
        "!python3 Library_search_for_topic/python/Library_search_for_topic.py"
      ],
      "execution_count": 34,
      "outputs": [
        {
          "output_type": "stream",
          "text": [
            "  File \"Library_search_for_topic/python/Library_search_for_topic.py\", line 6\n",
            "    !pip3 install spacy==2.3.0\n",
            "    ^\n",
            "SyntaxError: invalid syntax\n"
          ],
          "name": "stdout"
        }
      ]
    }
  ]
}