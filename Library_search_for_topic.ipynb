{
  "nbformat": 4,
  "nbformat_minor": 0,
  "metadata": {
    "colab": {
      "name": "Library_search.ipynb",
      "provenance": [],
      "collapsed_sections": [],
      "include_colab_link": true
    },
    "kernelspec": {
      "name": "python3",
      "display_name": "Python 3"
    }
  },
  "cells": [
    {
      "cell_type": "markdown",
      "metadata": {
        "id": "view-in-github",
        "colab_type": "text"
      },
      "source": [
        "<a href=\"https://colab.research.google.com/github/Elbereth-Elentari/Library_search_for_topic/blob/master/Library_search_for_topic.ipynb\" target=\"_parent\"><img src=\"https://colab.research.google.com/assets/colab-badge.svg\" alt=\"Open In Colab\"/></a>"
      ]
    },
    {
      "cell_type": "code",
      "metadata": {
        "id": "BnTNe_Tfqunb",
        "colab_type": "code",
        "colab": {}
      },
      "source": [
        "# Step 1: install everything (do this only once)\n",
        "!pip3 install spacy==2.3.0\n",
        "!pip3 install spacy_langdetect\n",
        "!pip3 install selenium\n",
        "!apt-get install chromium-chromedriver\n",
        "!pip3 install tqdm\n",
        "spacy.cli.download('en_core_web_lg')\n",
        "spacy.cli.download('pl_core_news_lg')\n",
        "\n",
        "!git clone https://github.com/Elbereth-Elentari/Library_search_for_topic.git"
      ],
      "execution_count": null,
      "outputs": []
    },
    {
      "cell_type": "code",
      "metadata": {
        "id": "xqlENAkTuQ1N",
        "colab_type": "code",
        "colab": {}
      },
      "source": [
        "# Step 2: run the program (run many times!)\n",
        "!python3 Library_search_for_topic/python/Library_search_for_topic.py"
      ],
      "execution_count": null,
      "outputs": []
    }
  ]
}